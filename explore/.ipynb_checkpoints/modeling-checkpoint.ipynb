{
 "cells": [
  {
   "cell_type": "code",
   "execution_count": 1,
   "id": "b9d97968-8fda-4524-ba4b-dd57005a2c46",
   "metadata": {},
   "outputs": [],
   "source": [
    "import pandas as pd\n",
    "import numpy as np\n",
    "from sklearn.ensemble import RandomForestClassifier\n",
    "from sklearn.cluster import KMeans\n",
    "from sklearn.metrics import pairwise_distances\n",
    "import seaborn as sns\n",
    "import matplotlib.pyplot as plt\n",
    "import seaborn as sns\n",
    "from sklearn.preprocessing import LabelEncoder\n",
    "import matplotlib.pyplot as plt\n",
    "from scipy.cluster.hierarchy import dendrogram, linkage\n",
    "from sklearn.cluster import AgglomerativeClustering\n",
    "from sklearn.metrics import silhouette_score\n",
    "from sklearn.preprocessing import StandardScaler\n",
    "from sklearn.cluster import KMeans\n",
    "from sklearn.cluster import KMeans\n",
    "from sklearn.decomposition import PCA\n",
    "from sklearn.preprocessing import StandardScaler\n",
    "from sklearn.metrics import silhouette_score\n",
    "from sklearn.cluster import DBSCAN\n",
    "from sklearn.neighbors import NearestNeighbors"
   ]
  },
  {
   "cell_type": "code",
   "execution_count": null,
   "id": "2d48da7e-a03a-4bf3-92e0-af70f0abddf1",
   "metadata": {},
   "outputs": [],
   "source": [
    "df = pd.read_csv(\n",
    "    './kmean_1.csv',\n",
    "    low_memory=False\n",
    ")\n",
    "dff = df\n",
    "\n",
    "label_encoder = LabelEncoder()\n",
    "\n",
    "dff['brand'] =  label_encoder.fit_transform(dff['brand'])\n",
    "dff['cluster_nl'] =  label_encoder.fit_transform(dff['cluster_nl'])\n",
    "dff['corporation'] =  label_encoder.fit_transform(dff['corporation'])\n",
    "dff['country'] =  label_encoder.fit_transform(dff['country'])\n",
    "dff['launch_date'] =  label_encoder.fit_transform(dff['launch_date'])\n",
    "dff['date'] =  label_encoder.fit_transform(dff['date'])\n",
    "dff['ind_launch_date'] =  label_encoder.fit_transform(dff['ind_launch_date'])\n",
    "dff['indication'] =  label_encoder.fit_transform(dff['indication'])\n",
    "dff['drug_id'] =  label_encoder.fit_transform(dff['drug_id'])\n",
    "dff['therapeutic_area'] =  label_encoder.fit_transform(dff['therapeutic_area'])"
   ]
  }
 ],
 "metadata": {
  "kernelspec": {
   "display_name": "Python 3 (ipykernel)",
   "language": "python",
   "name": "python3"
  },
  "language_info": {
   "codemirror_mode": {
    "name": "ipython",
    "version": 3
   },
   "file_extension": ".py",
   "mimetype": "text/x-python",
   "name": "python",
   "nbconvert_exporter": "python",
   "pygments_lexer": "ipython3",
   "version": "3.12.7"
  }
 },
 "nbformat": 4,
 "nbformat_minor": 5
}
