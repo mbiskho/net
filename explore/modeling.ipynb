{
 "cells": [
  {
   "cell_type": "code",
   "execution_count": 1,
   "id": "b9d97968-8fda-4524-ba4b-dd57005a2c46",
   "metadata": {},
   "outputs": [],
   "source": [
    "import pandas as pd\n",
    "import numpy as np\n",
    "from sklearn.ensemble import RandomForestClassifier\n",
    "from sklearn.cluster import KMeans\n",
    "from sklearn.metrics import pairwise_distances\n",
    "import seaborn as sns\n",
    "import matplotlib.pyplot as plt\n",
    "import seaborn as sns\n",
    "from sklearn.preprocessing import LabelEncoder\n",
    "import matplotlib.pyplot as plt\n",
    "from scipy.cluster.hierarchy import dendrogram, linkage\n",
    "from sklearn.cluster import AgglomerativeClustering\n",
    "from sklearn.metrics import silhouette_score\n",
    "from sklearn.preprocessing import StandardScaler\n",
    "from sklearn.cluster import KMeans\n",
    "from sklearn.cluster import KMeans\n",
    "from sklearn.decomposition import PCA\n",
    "from sklearn.preprocessing import StandardScaler\n",
    "from sklearn.metrics import silhouette_score\n",
    "from sklearn.cluster import DBSCAN\n",
    "from sklearn.neighbors import NearestNeighbors"
   ]
  },
  {
   "cell_type": "markdown",
   "id": "b6eb1db9-b6c9-4b02-8cae-12a735ac6a64",
   "metadata": {},
   "source": [
    "# Origins"
   ]
  },
  {
   "cell_type": "code",
   "execution_count": 7,
   "id": "2db83ed2-4f8a-4d1e-accf-ca3cea1683f6",
   "metadata": {},
   "outputs": [
    {
     "name": "stdout",
     "output_type": "stream",
     "text": [
      "          che_pc_usd   che_perc_gdp  insurance_perc_che     population  \\\n",
      "count  118917.000000  118917.000000       118917.000000  118917.000000   \n",
      "mean        1.529389       1.607100            1.008999       1.483680   \n",
      "std         0.439094       0.537994            1.044154       1.336542   \n",
      "min        -1.000000      -1.000000           -1.000000       1.000000   \n",
      "25%         1.179931       1.464849            1.000000       1.038227   \n",
      "50%         1.472378       1.731474            1.346667       1.238870   \n",
      "75%         1.816479       1.894139            1.760000       1.506685   \n",
      "max         2.656913       2.311103            2.040000      12.767484   \n",
      "\n",
      "          prev_perc    price_month     price_unit         target  \n",
      "count  1.189170e+05  118917.000000  118917.000000  118917.000000  \n",
      "mean   5.768206e-02       0.912442       1.463305       1.420171  \n",
      "std    9.163269e-02       1.414511       5.464170       1.183330  \n",
      "min    5.954162e-07      -1.000000      -1.000000       1.000000  \n",
      "25%    2.463952e-03       1.002854       1.011818       1.022251  \n",
      "50%    1.879598e-02       1.015832       1.085415       1.089062  \n",
      "75%    8.556676e-02       1.316595       1.420445       1.309227  \n",
      "max    6.668035e-01      39.343041     535.926517      28.576068  \n"
     ]
    }
   ],
   "source": [
    "df = pd.read_csv(\n",
    "    './train_data.csv',\n",
    "    low_memory=False\n",
    ")\n",
    "dff = df\n",
    "\n",
    "label_encoder = LabelEncoder()\n",
    "\n",
    "dff['brand'] =  label_encoder.fit_transform(dff['brand'])\n",
    "dff['cluster_nl'] =  label_encoder.fit_transform(dff['cluster_nl'])\n",
    "dff['corporation'] =  label_encoder.fit_transform(dff['corporation'])\n",
    "dff['country'] =  label_encoder.fit_transform(dff['country'])\n",
    "dff['launch_date'] =  label_encoder.fit_transform(dff['launch_date'])\n",
    "dff['date'] =  label_encoder.fit_transform(dff['date'])\n",
    "dff['ind_launch_date'] =  label_encoder.fit_transform(dff['ind_launch_date'])\n",
    "dff['indication'] =  label_encoder.fit_transform(dff['indication'])\n",
    "dff['drug_id'] =  label_encoder.fit_transform(dff['drug_id'])\n",
    "dff['therapeutic_area'] =  label_encoder.fit_transform(dff['therapeutic_area'])\n",
    "\n",
    "\n",
    "columns = ['che_pc_usd', 'che_perc_gdp', 'insurance_perc_che', \n",
    "           'population', 'prev_perc', 'price_month', \n",
    "           'price_unit', 'target']\n",
    "\n",
    "# Show the statistics for the selected columns\n",
    "statistics = dff[columns].describe()\n",
    "\n",
    "# Display the statistics\n",
    "print(statistics)"
   ]
  },
  {
   "cell_type": "markdown",
   "id": "cabfb02d-eb7f-4379-9745-c8ca4285c6d9",
   "metadata": {},
   "source": [
    "# Clustering"
   ]
  },
  {
   "cell_type": "code",
   "execution_count": 8,
   "id": "2d48da7e-a03a-4bf3-92e0-af70f0abddf1",
   "metadata": {},
   "outputs": [
    {
     "name": "stdout",
     "output_type": "stream",
     "text": [
      "        che_pc_usd  che_perc_gdp  insurance_perc_che   population  \\\n",
      "count  5259.000000   5259.000000         5259.000000  5259.000000   \n",
      "mean      1.155135      0.091029            1.546638     4.597644   \n",
      "std       0.120356      1.097306            0.523130     5.147077   \n",
      "min       1.000000     -1.000000           -1.000000     1.050796   \n",
      "25%       1.018883     -1.000000            1.083333     1.051451   \n",
      "50%       1.195693     -1.000000            1.920000     1.051939   \n",
      "75%       1.268883      1.154032            1.933333    12.413316   \n",
      "max       1.340020      1.326600            1.946667    12.767484   \n",
      "\n",
      "          prev_perc  price_month   price_unit       target  \n",
      "count  5.259000e+03  5259.000000  5259.000000  5259.000000  \n",
      "mean   4.022441e-02     0.166893     1.393957     1.265476  \n",
      "std    4.702455e-02     1.127222     1.836386     0.853288  \n",
      "min    5.954162e-07    -1.000000     1.000000     1.000000  \n",
      "25%    2.125537e-03    -1.000000     1.007620     1.015701  \n",
      "50%    1.397983e-02     1.003902     1.050962     1.050490  \n",
      "75%    8.484053e-02     1.033837     1.317015     1.150925  \n",
      "max    1.511886e-01     2.597110    22.608474    10.563492  \n"
     ]
    }
   ],
   "source": [
    "df = pd.read_csv(\n",
    "    './kmean_1.csv',\n",
    "    low_memory=False\n",
    ")\n",
    "dff = df\n",
    "\n",
    "label_encoder = LabelEncoder()\n",
    "\n",
    "dff['brand'] =  label_encoder.fit_transform(dff['brand'])\n",
    "dff['cluster_nl'] =  label_encoder.fit_transform(dff['cluster_nl'])\n",
    "dff['corporation'] =  label_encoder.fit_transform(dff['corporation'])\n",
    "dff['country'] =  label_encoder.fit_transform(dff['country'])\n",
    "dff['launch_date'] =  label_encoder.fit_transform(dff['launch_date'])\n",
    "dff['date'] =  label_encoder.fit_transform(dff['date'])\n",
    "dff['ind_launch_date'] =  label_encoder.fit_transform(dff['ind_launch_date'])\n",
    "dff['indication'] =  label_encoder.fit_transform(dff['indication'])\n",
    "dff['drug_id'] =  label_encoder.fit_transform(dff['drug_id'])\n",
    "dff['therapeutic_area'] =  label_encoder.fit_transform(dff['therapeutic_area'])\n",
    "dff = dff.drop('therapeutic_area_encoded', axis=1)\n",
    "\n",
    "\n",
    "columns = ['che_pc_usd', 'che_perc_gdp', 'insurance_perc_che', \n",
    "           'population', 'prev_perc', 'price_month', \n",
    "           'price_unit', 'target']\n",
    "\n",
    "# Show the statistics for the selected columns\n",
    "statistics = dff[columns].describe()\n",
    "\n",
    "# Display the statistics\n",
    "print(statistics)"
   ]
  },
  {
   "cell_type": "code",
   "execution_count": null,
   "id": "d29cd9cf-0825-4cd1-98cf-f28e2da3a14c",
   "metadata": {},
   "outputs": [],
   "source": []
  }
 ],
 "metadata": {
  "kernelspec": {
   "display_name": "Python 3 (ipykernel)",
   "language": "python",
   "name": "python3"
  },
  "language_info": {
   "codemirror_mode": {
    "name": "ipython",
    "version": 3
   },
   "file_extension": ".py",
   "mimetype": "text/x-python",
   "name": "python",
   "nbconvert_exporter": "python",
   "pygments_lexer": "ipython3",
   "version": "3.12.7"
  }
 },
 "nbformat": 4,
 "nbformat_minor": 5
}
