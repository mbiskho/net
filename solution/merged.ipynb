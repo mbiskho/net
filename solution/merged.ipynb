{
 "cells": [
  {
   "cell_type": "code",
   "execution_count": 13,
   "id": "55105246-e7af-4139-ad08-f0b5cac43167",
   "metadata": {},
   "outputs": [
    {
     "name": "stdout",
     "output_type": "stream",
     "text": [
      "            date               cluster_nl  prediction\n",
      "0     2023-01-01  BRAND_9259_COUNTRY_6B71    1.018509\n",
      "1     2023-02-01  BRAND_9259_COUNTRY_6B71    1.018509\n",
      "2     2023-03-01  BRAND_9259_COUNTRY_6B71    1.018509\n",
      "3     2023-04-01  BRAND_9259_COUNTRY_6B71    1.018509\n",
      "4     2023-05-01  BRAND_9259_COUNTRY_6B71    1.018509\n",
      "...          ...                      ...         ...\n",
      "1764  2023-08-01  BRAND_056A_COUNTRY_3536    1.123538\n",
      "1765  2023-09-01  BRAND_056A_COUNTRY_3536    1.123538\n",
      "1766  2023-10-01  BRAND_056A_COUNTRY_3536    1.123538\n",
      "1767  2023-11-01  BRAND_056A_COUNTRY_3536    1.123538\n",
      "1768  2023-12-01  BRAND_056A_COUNTRY_3536    1.123538\n",
      "\n",
      "[1769 rows x 3 columns]\n"
     ]
    }
   ],
   "source": [
    "import pandas as pd\n",
    "\n",
    "# Load the datasets\n",
    "data_2022 = pd.read_csv('./submission_2022.csv', low_memory=False)\n",
    "data_2023 = pd.read_csv('./submission_2023.csv', low_memory=False)\n",
    "\n",
    "# Iterate through data_2022 and check for missing 'prediction' values\n",
    "for i, row in data_2022.iterrows():\n",
    "    if pd.isnull(row['prediction']):  # Check if 'prediction' is null in data_2022\n",
    "        # Find the corresponding row in data_2023 based on 'cluster_nl' and 'date'\n",
    "        matching_row_2023 = data_2023[(data_2023['cluster_nl'] == row['cluster_nl']) & \n",
    "                                      (data_2023['date'] == row['date'])]\n",
    "        \n",
    "        if not matching_row_2023.empty:\n",
    "            # Fill the 'prediction' value in data_2022 with the one from data_2023\n",
    "            data_2022.at[i, 'prediction'] = matching_row_2023.iloc[0]['prediction']\n",
    "\n",
    "# Save the updated data_2022 with filled 'prediction' column\n",
    "data_2022.to_csv('submission.csv', index=False)\n",
    "\n",
    "print(data_2022)\n"
   ]
  },
  {
   "cell_type": "code",
   "execution_count": 14,
   "id": "65560f5d-decf-480e-874a-c7cc39101e4e",
   "metadata": {},
   "outputs": [
    {
     "name": "stdout",
     "output_type": "stream",
     "text": [
      "Rows with negative predictions:\n",
      "           date               cluster_nl  prediction\n",
      "730  2023-09-01  BRAND_056A_COUNTRY_EA71        -1.0\n",
      "731  2023-10-01  BRAND_056A_COUNTRY_EA71        -1.0\n",
      "732  2023-11-01  BRAND_056A_COUNTRY_EA71        -1.0\n",
      "733  2023-12-01  BRAND_056A_COUNTRY_EA71        -1.0\n"
     ]
    }
   ],
   "source": [
    "submission_data = pd.read_csv('./submission.csv', low_memory=False)\n",
    "\n",
    "# Check if there are any negative values in the 'prediction' column\n",
    "negative_predictions = submission_data[submission_data['prediction'] < 0]\n",
    "\n",
    "# If there are negative values, print the rows\n",
    "if not negative_predictions.empty:\n",
    "    print(\"Rows with negative predictions:\")\n",
    "    print(negative_predictions)\n",
    "else:\n",
    "    print(\"No negative values in 'prediction' column.\")"
   ]
  },
  {
   "cell_type": "code",
   "execution_count": null,
   "id": "c17a6666-bf60-45ab-b30c-683bc68a0326",
   "metadata": {},
   "outputs": [],
   "source": []
  }
 ],
 "metadata": {
  "kernelspec": {
   "display_name": "Python 3 (ipykernel)",
   "language": "python",
   "name": "python3"
  },
  "language_info": {
   "codemirror_mode": {
    "name": "ipython",
    "version": 3
   },
   "file_extension": ".py",
   "mimetype": "text/x-python",
   "name": "python",
   "nbconvert_exporter": "python",
   "pygments_lexer": "ipython3",
   "version": "3.12.7"
  }
 },
 "nbformat": 4,
 "nbformat_minor": 5
}
