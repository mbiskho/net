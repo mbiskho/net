{
 "cells": [
  {
   "cell_type": "code",
   "execution_count": 17,
   "metadata": {
    "id": "pVetPZ8Ter8B"
   },
   "outputs": [],
   "source": [
    "import pandas as pd\n",
    "import numpy as np\n",
    "from sklearn.ensemble import RandomForestClassifier\n",
    "from sklearn.cluster import KMeans\n",
    "from sklearn.metrics import pairwise_distances\n",
    "import seaborn as sns\n",
    "import matplotlib.pyplot as plt\n",
    "import seaborn as sns\n",
    "from sklearn.preprocessing import LabelEncoder\n",
    "import matplotlib.pyplot as plt\n",
    "from scipy.cluster.hierarchy import dendrogram, linkage\n",
    "from sklearn.cluster import AgglomerativeClustering\n",
    "from sklearn.metrics import silhouette_score\n",
    "from sklearn.preprocessing import StandardScaler\n",
    "from sklearn.cluster import KMeans\n",
    "from sklearn.cluster import KMeans\n",
    "from sklearn.decomposition import PCA\n",
    "from sklearn.preprocessing import StandardScaler\n",
    "from sklearn.metrics import silhouette_score\n",
    "from sklearn.cluster import DBSCAN\n",
    "from sklearn.neighbors import NearestNeighbors\n",
    "from sklearn.ensemble import RandomForestClassifier, RandomForestRegressor\n",
    "from sklearn.model_selection import train_test_split"
   ]
  },
  {
   "cell_type": "code",
   "execution_count": 18,
   "metadata": {
    "id": "P6msCu15gTjR"
   },
   "outputs": [],
   "source": [
    "data = pd.read_csv(\n",
    "    './submission_data.csv',\n",
    "    low_memory=False\n",
    ")\n",
    "train = pd.read_csv(\n",
    "    './submission_data.csv',\n",
    "    low_memory=False\n",
    ")"
   ]
  },
  {
   "cell_type": "code",
   "execution_count": 19,
   "metadata": {},
   "outputs": [],
   "source": [
    "data['launch_date'] = pd.to_datetime(data['launch_date'], errors='coerce')\n",
    "train['launch_date'] = pd.to_datetime(train['launch_date'], errors='coerce')"
   ]
  },
  {
   "cell_type": "code",
   "execution_count": 20,
   "metadata": {},
   "outputs": [],
   "source": [
    "train = train[train['launch_date'].dt.year == 2023]"
   ]
  },
  {
   "cell_type": "code",
   "execution_count": 22,
   "metadata": {},
   "outputs": [
    {
     "name": "stdout",
     "output_type": "stream",
     "text": [
      "Updated data.csv has been saved with calculated targets.\n"
     ]
    }
   ],
   "source": [
    "for idx, row in data.iterrows():\n",
    "    country = row['country']\n",
    "    therapeutic_area = row['therapeutic_area']\n",
    "    drug_id = row['drug_id']\n",
    "    launch_date_data = row['launch_date']\n",
    "\n",
    "    # Filter train data by country and therapeutic_area\n",
    "    filtered_train = train[\n",
    "        (train['country'] == country) &\n",
    "        (train['therapeutic_area'] == therapeutic_area)\n",
    "    ]\n",
    "\n",
    "    # Check if the same drug exists\n",
    "    if drug_id in filtered_train['drug_id'].values:\n",
    "        matching_drug = filtered_train[filtered_train['drug_id'] == drug_id].iloc[0]\n",
    "        initial_price_unit = matching_drug['price_unit']\n",
    "        launch_date_train = matching_drug['launch_date']\n",
    "\n",
    "        # Calculate the span in months between train and data launch dates\n",
    "        span_months = (launch_date_data.year - launch_date_train.year) * 12 + \\\n",
    "                      (launch_date_data.month - launch_date_train.month)\n",
    "\n",
    "        # Update the price_unit using the 10% monthly increase\n",
    "        updated_price_unit = initial_price_unit * ((1 + 0.1) ** span_months)\n",
    "\n",
    "        # Set the target\n",
    "        data.at[idx, 'target'] = updated_price_unit\n",
    "    else:\n",
    "        # Handle the case where no matching drug is found\n",
    "        data.at[idx, 'target'] = None  # Or use a default/fallback value\n",
    "\n",
    "# Save the updated data\n",
    "data.to_csv('result_2023.csv', index=False)\n",
    "\n",
    "print(\"Updated data.csv has been saved with calculated targets.\")"
   ]
  },
  {
   "cell_type": "code",
   "execution_count": 23,
   "metadata": {},
   "outputs": [
    {
     "ename": "NameError",
     "evalue": "name 'result_2022' is not defined",
     "output_type": "error",
     "traceback": [
      "\u001b[0;31m---------------------------------------------------------------------------\u001b[0m",
      "\u001b[0;31mNameError\u001b[0m                                 Traceback (most recent call last)",
      "Cell \u001b[0;32mIn[23], line 6\u001b[0m\n\u001b[1;32m      2\u001b[0m result_2023 \u001b[38;5;241m=\u001b[39m pd\u001b[38;5;241m.\u001b[39mread_csv(\u001b[38;5;124m'\u001b[39m\u001b[38;5;124mresult_2023.csv\u001b[39m\u001b[38;5;124m'\u001b[39m)\n\u001b[1;32m      4\u001b[0m \u001b[38;5;66;03m# Merge the DataFrames on 'date' and 'cluster_nl'\u001b[39;00m\n\u001b[1;32m      5\u001b[0m merged \u001b[38;5;241m=\u001b[39m submission_template\u001b[38;5;241m.\u001b[39mmerge(\n\u001b[0;32m----> 6\u001b[0m     \u001b[43mresult_2022\u001b[49m[[\u001b[38;5;124m'\u001b[39m\u001b[38;5;124mdate\u001b[39m\u001b[38;5;124m'\u001b[39m, \u001b[38;5;124m'\u001b[39m\u001b[38;5;124mcluster_nl\u001b[39m\u001b[38;5;124m'\u001b[39m, \u001b[38;5;124m'\u001b[39m\u001b[38;5;124mtarget\u001b[39m\u001b[38;5;124m'\u001b[39m]],  \u001b[38;5;66;03m# Select only relevant columns\u001b[39;00m\n\u001b[1;32m      7\u001b[0m     on\u001b[38;5;241m=\u001b[39m[\u001b[38;5;124m'\u001b[39m\u001b[38;5;124mdate\u001b[39m\u001b[38;5;124m'\u001b[39m, \u001b[38;5;124m'\u001b[39m\u001b[38;5;124mcluster_nl\u001b[39m\u001b[38;5;124m'\u001b[39m],\n\u001b[1;32m      8\u001b[0m     how\u001b[38;5;241m=\u001b[39m\u001b[38;5;124m'\u001b[39m\u001b[38;5;124mleft\u001b[39m\u001b[38;5;124m'\u001b[39m  \u001b[38;5;66;03m# Use 'left' to keep all rows in submission_template\u001b[39;00m\n\u001b[1;32m      9\u001b[0m )\n\u001b[1;32m     11\u001b[0m \u001b[38;5;66;03m# Update the 'target' column in the submission template\u001b[39;00m\n\u001b[1;32m     12\u001b[0m submission_template[\u001b[38;5;124m'\u001b[39m\u001b[38;5;124mprediction\u001b[39m\u001b[38;5;124m'\u001b[39m] \u001b[38;5;241m=\u001b[39m merged[\u001b[38;5;124m'\u001b[39m\u001b[38;5;124mtarget\u001b[39m\u001b[38;5;124m'\u001b[39m]\n",
      "\u001b[0;31mNameError\u001b[0m: name 'result_2022' is not defined"
     ]
    }
   ],
   "source": [
    "submission_template = pd.read_csv('submission_template.csv')\n",
    "result_2023 = pd.read_csv('result_2023.csv')\n",
    "\n",
    "# Merge the DataFrames on 'date' and 'cluster_nl'\n",
    "merged = submission_template.merge(\n",
    "    result_2023[['date', 'cluster_nl', 'target']],  # Select only relevant columns\n",
    "    on=['date', 'cluster_nl'],\n",
    "    how='left'  # Use 'left' to keep all rows in submission_template\n",
    ")\n",
    "\n",
    "# Update the 'target' column in the submission template\n",
    "submission_template['prediction'] = merged['target']\n",
    "\n",
    "# Save the updated submission template\n",
    "submission_template.to_csv('submission_2023.csv', index=False)\n",
    "\n",
    "print(\"Updated submission_2023.csv has been saved.\")"
   ]
  },
  {
   "cell_type": "code",
   "execution_count": null,
   "metadata": {},
   "outputs": [],
   "source": []
  }
 ],
 "metadata": {
  "colab": {
   "provenance": []
  },
  "kernelspec": {
   "display_name": "Python 3 (ipykernel)",
   "language": "python",
   "name": "python3"
  },
  "language_info": {
   "codemirror_mode": {
    "name": "ipython",
    "version": 3
   },
   "file_extension": ".py",
   "mimetype": "text/x-python",
   "name": "python",
   "nbconvert_exporter": "python",
   "pygments_lexer": "ipython3",
   "version": "3.12.7"
  }
 },
 "nbformat": 4,
 "nbformat_minor": 4
}
